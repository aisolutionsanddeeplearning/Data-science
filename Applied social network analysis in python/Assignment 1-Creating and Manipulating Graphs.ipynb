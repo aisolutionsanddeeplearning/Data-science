{
 "cells": [
  {
   "cell_type": "markdown",
   "metadata": {},
   "source": [
    "---\n",
    "\n",
    "_You are currently looking at **version 1.1** of this notebook. To download notebooks and datafiles, as well as get help on Jupyter notebooks in the Coursera platform, visit the [Jupyter Notebook FAQ](https://www.coursera.org/learn/python-social-network-analysis/resources/yPcBs) course resource._\n",
    "\n",
    "---"
   ]
  },
  {
   "cell_type": "markdown",
   "metadata": {},
   "source": [
    "# Assignment 1 - Creating and Manipulating Graphs\n",
    "\n",
    "Eight employees at a small company were asked to choose 3 movies that they would most enjoy watching for the upcoming company movie night. These choices are stored in the file `Employee_Movie_Choices.txt`.\n",
    "\n",
    "A second file, `Employee_Relationships.txt`, has data on the relationships between different coworkers. \n",
    "\n",
    "The relationship score has value of `-100` (Enemies) to `+100` (Best Friends). A value of zero means the two employees haven't interacted or are indifferent.\n",
    "\n",
    "Both files are tab delimited."
   ]
  },
  {
   "cell_type": "code",
   "execution_count": 1,
   "metadata": {
    "collapsed": true
   },
   "outputs": [],
   "source": [
    "import networkx as nx\n",
    "import pandas as pd\n",
    "import numpy as np\n",
    "from networkx.algorithms import bipartite\n",
    "\n",
    "\n",
    "# This is the set of employees\n",
    "employees = set(['Pablo',\n",
    "                 'Lee',\n",
    "                 'Georgia',\n",
    "                 'Vincent',\n",
    "                 'Andy',\n",
    "                 'Frida',\n",
    "                 'Joan',\n",
    "                 'Claude'])\n",
    "\n",
    "# This is the set of movies\n",
    "movies = set(['The Shawshank Redemption',\n",
    "              'Forrest Gump',\n",
    "              'The Matrix',\n",
    "              'Anaconda',\n",
    "              'The Social Network',\n",
    "              'The Godfather',\n",
    "              'Monty Python and the Holy Grail',\n",
    "              'Snakes on a Plane',\n",
    "              'Kung Fu Panda',\n",
    "              'The Dark Knight',\n",
    "              'Mean Girls'])\n",
    "\n",
    "\n",
    "# you can use the following function to plot graphs\n",
    "# make sure to comment it out before submitting to the autograder\n",
    "def plot_graph(G, weight_name=None):\n",
    "    '''\n",
    "    G: a networkx G\n",
    "    weight_name: name of the attribute for plotting edge weights (if G is weighted)\n",
    "    '''\n",
    "    %matplotlib notebook\n",
    "    import matplotlib.pyplot as plt\n",
    "    \n",
    "    plt.figure()\n",
    "    pos = nx.spring_layout(G)\n",
    "    edges = G.edges()\n",
    "    weights = None\n",
    "    \n",
    "    if weight_name:\n",
    "        weights = [int(G[u][v][weight_name]) for u,v in edges]\n",
    "        labels = nx.get_edge_attributes(G,weight_name)\n",
    "        nx.draw_networkx_edge_labels(G,pos,edge_labels=labels)\n",
    "        nx.draw_networkx(G, pos, edges=edges, width=weights);\n",
    "    else:\n",
    "        nx.draw_networkx(G, pos, edges=edges);"
   ]
  },
  {
   "cell_type": "markdown",
   "metadata": {},
   "source": [
    "### Question 1\n",
    "\n",
    "Using NetworkX, load in the bipartite graph from `Employee_Movie_Choices.txt` and return that graph.\n",
    "\n",
    "*This function should return a networkx graph with 19 nodes and 24 edges*"
   ]
  },
  {
   "cell_type": "code",
   "execution_count": 2,
   "metadata": {},
   "outputs": [
    {
     "data": {
      "text/plain": [
       "<networkx.classes.graph.Graph at 0x7f72bc705320>"
      ]
     },
     "execution_count": 2,
     "metadata": {},
     "output_type": "execute_result"
    }
   ],
   "source": [
    "def answer_one():\n",
    "        \n",
    "    # Your Code Here\n",
    "    df_movies = pd.read_csv('Employee_Movie_Choices.txt',sep='\\t')\n",
    "    #print(df_movies)\n",
    "    g = nx.from_pandas_dataframe(df_movies, '#Employee', 'Movie')\n",
    "    #g = nx.read_edgelist('Employee_Movie_Choices.txt', delimiter=\"\\t\")\n",
    "    return g# Your Answer Here\n",
    "answer_one()"
   ]
  },
  {
   "cell_type": "markdown",
   "metadata": {},
   "source": [
    "### Question 2\n",
    "\n",
    "Using the graph from the previous question, add nodes attributes named `'type'` where movies have the value `'movie'` and employees have the value `'employee'` and return that graph.\n",
    "\n",
    "*This function should return a networkx graph with node attributes `{'type': 'movie'}` or `{'type': 'employee'}`*"
   ]
  },
  {
   "cell_type": "code",
   "execution_count": 3,
   "metadata": {},
   "outputs": [
    {
     "data": {
      "text/plain": [
       "<networkx.classes.graph.Graph at 0x7f727ee52128>"
      ]
     },
     "execution_count": 3,
     "metadata": {},
     "output_type": "execute_result"
    }
   ],
   "source": [
    "def answer_two():\n",
    "    \n",
    "    # Your Code Here\n",
    "    g = answer_one()\n",
    "    for node in g.nodes():\n",
    "        if node in employees:\n",
    "            g.add_node(node, type=\"employee\")\n",
    "        else:\n",
    "            g.add_node(node, type=\"movie\")\n",
    "    return g# Your Answer Here\n",
    "answer_two()"
   ]
  },
  {
   "cell_type": "markdown",
   "metadata": {
    "collapsed": true
   },
   "source": [
    "### Question 3\n",
    "\n",
    "Find a weighted projection of the graph from `answer_two` which tells us how many movies different pairs of employees have in common.\n",
    "\n",
    "*This function should return a weighted projected graph.*"
   ]
  },
  {
   "cell_type": "code",
   "execution_count": 4,
   "metadata": {
    "collapsed": true
   },
   "outputs": [],
   "source": [
    "def answer_three():\n",
    "        \n",
    "    # Your Code Here\n",
    "    g=answer_two()\n",
    "    proyected_g = bipartite.weighted_projected_graph(g, employees)\n",
    "    return proyected_g# Your Answer Here"
   ]
  },
  {
   "cell_type": "markdown",
   "metadata": {
    "collapsed": true
   },
   "source": [
    "### Question 4\n",
    "\n",
    "Suppose you'd like to find out if people that have a high relationship score also like the same types of movies.\n",
    "\n",
    "Find the Pearson correlation ( using `DataFrame.corr()` ) between employee relationship scores and the number of movies they have in common. If two employees have no movies in common it should be treated as a 0, not a missing value, and should be included in the correlation calculation.\n",
    "\n",
    "*This function should return a float.*"
   ]
  },
  {
   "cell_type": "code",
   "execution_count": 54,
   "metadata": {
    "scrolled": true
   },
   "outputs": [
    {
     "name": "stderr",
     "output_type": "stream",
     "text": [
      "/opt/conda/lib/python3.6/site-packages/ipykernel_launcher.py:47: SettingWithCopyWarning: \n",
      "A value is trying to be set on a copy of a slice from a DataFrame.\n",
      "Try using .loc[row_indexer,col_indexer] = value instead\n",
      "\n",
      "See the caveats in the documentation: http://pandas.pydata.org/pandas-docs/stable/indexing.html#indexing-view-versus-copy\n",
      "/opt/conda/lib/python3.6/site-packages/ipykernel_launcher.py:48: SettingWithCopyWarning: \n",
      "A value is trying to be set on a copy of a slice from a DataFrame.\n",
      "Try using .loc[row_indexer,col_indexer] = value instead\n",
      "\n",
      "See the caveats in the documentation: http://pandas.pydata.org/pandas-docs/stable/indexing.html#indexing-view-versus-copy\n"
     ]
    },
    {
     "data": {
      "text/plain": [
       "0.78839622217334737"
      ]
     },
     "execution_count": 54,
     "metadata": {},
     "output_type": "execute_result"
    }
   ],
   "source": [
    "import re\n",
    "def answer_four():\n",
    "        \n",
    "    # Your Code Here\n",
    "    g=answer_three()\n",
    "    #print(g.edges(data=True))\n",
    "    df = pd.DataFrame(g.edges(data=True))\n",
    "    df['weight'] =  df[2].apply(lambda x: re.sub(r'([\\'{}a-zA-Z:])','', str(x)))\n",
    "    df.columns=['1','2','weight','w']\n",
    "    #print(df)\n",
    "    \n",
    "    df_score = pd.read_csv('Employee_Relationships.txt',sep='\\t')\n",
    "\n",
    "    #df_score['corr'] = df_score.corr()\n",
    "    df_score.columns=['1','2','rel']\n",
    "    df2 = df_score.append(pd.Series(['Andy','Claude','0',''],index=['1','2','rel','']),ignore_index=True)\n",
    "    \n",
    "    #print(df2)\n",
    "    \n",
    "    df3 = pd.merge(df, df2, left_on=['1', '2'],right_on=['1', '2'],how='outer')\n",
    "    df3=df3[['1','2','w','rel']]\n",
    "    \n",
    "    df4 = pd.merge(df3, df3, left_on=['1', '2'],right_on=['2', '1'],how='outer')\n",
    "    df4 = df4.fillna('')\n",
    "    df4['rel'] = df4['rel_x'].map(str) + df4['rel_y'].map(str)\n",
    "   \n",
    "    result = df4[['1_x','2_x','w_x','rel']][:35]\n",
    "    \n",
    "    result.columns=['1','2','w','rel']\n",
    " \n",
    "    \n",
    "    #print(result)\n",
    "    indexes=[]\n",
    "    \n",
    "    for a1, a2 in zip(result['1'][:10],result['2'][:10]):\n",
    "        for i,b1,b2 in zip(result.index.tolist(),result['1'],result['2']):\n",
    "            if a1==b2 and a2==b1:\n",
    "                indexes.append(i)\n",
    "                    \n",
    "    result = result.drop(indexes)\n",
    "    result = result.drop([23])\n",
    "    \n",
    "    result['w'][11:]=0\n",
    "    result = result[:28]\n",
    "    #print(len(result))\n",
    "    data = result[['w','rel']]\n",
    "    data['w'] = data['w'].astype(float)\n",
    "    data['rel'] = data['rel'].astype(float)\n",
    "    correlation = data['w'].corr(data['rel'])\n",
    "    #print(len(result))\n",
    "    \n",
    "        \n",
    "    Rel = nx.read_edgelist('Employee_Relationships.txt', data=[('relationship_score', int)])\n",
    "    Rel_df = pd.DataFrame(Rel.edges(data=True), columns=['From', 'To', 'relationship_score'])\n",
    "#     print (Rel_df)\n",
    "    G = answer_three()\n",
    "    G_df = pd.DataFrame(G.edges(data=True), columns=['From', 'To', 'movies_score'])\n",
    "#     print (G_df)\n",
    "    G_copy_df = G_df.copy()\n",
    "#     change the edge direction and get a double direction graph\n",
    "    G_copy_df.rename(columns={\"From\":\"From_\", \"To\":\"From\"}, inplace=True)\n",
    "    G_copy_df.rename(columns={\"From_\":\"To\"}, inplace=True)\n",
    "#     print (G_copy_df)\n",
    "    G_final_df = pd.concat([G_df, G_copy_df])\n",
    "#     print (G_final_df)\n",
    "    final_df = pd.merge(G_final_df, Rel_df, on = ['From', 'To'], how='right')\n",
    "    final_df['movies_score'] = final_df['movies_score'].map(lambda x: x['weight'] if type(x)==dict else None)\n",
    "    final_df['relationship_score'] = final_df['relationship_score'].map(lambda x: x['relationship_score'])\n",
    "    final_df['movies_score'].fillna(value=0, inplace=True)\n",
    "    #print (len(final_df))\n",
    "    \n",
    "    #print(correlation)\n",
    "    #print(final_df['movies_score'].corr(final_df['relationship_score'])-correlation)\n",
    "    return  final_df['movies_score'].corr(final_df['relationship_score'])# data['w'].corr(data['rel'])# Your Answer Here\n",
    "answer_four()"
   ]
  },
  {
   "cell_type": "code",
   "execution_count": null,
   "metadata": {
    "collapsed": true
   },
   "outputs": [],
   "source": []
  },
  {
   "cell_type": "code",
   "execution_count": null,
   "metadata": {
    "collapsed": true
   },
   "outputs": [],
   "source": []
  },
  {
   "cell_type": "code",
   "execution_count": null,
   "metadata": {
    "collapsed": true
   },
   "outputs": [],
   "source": []
  },
  {
   "cell_type": "code",
   "execution_count": null,
   "metadata": {
    "collapsed": true
   },
   "outputs": [],
   "source": []
  },
  {
   "cell_type": "code",
   "execution_count": null,
   "metadata": {
    "collapsed": true
   },
   "outputs": [],
   "source": []
  }
 ],
 "metadata": {
  "coursera": {
   "course_slug": "python-social-network-analysis",
   "graded_item_id": "YNa9b",
   "launcher_item_id": "hvNc1",
   "part_id": "VbyiB"
  },
  "kernelspec": {
   "display_name": "Python 3",
   "language": "python",
   "name": "python3"
  },
  "language_info": {
   "codemirror_mode": {
    "name": "ipython",
    "version": 3
   },
   "file_extension": ".py",
   "mimetype": "text/x-python",
   "name": "python",
   "nbconvert_exporter": "python",
   "pygments_lexer": "ipython3",
   "version": "3.6.2"
  }
 },
 "nbformat": 4,
 "nbformat_minor": 2
}
