{
 "cells": [
  {
   "cell_type": "markdown",
   "metadata": {},
   "source": [
    "# Assignment 4\n",
    "\n",
    "Before working on this assignment please read these instructions fully. In the submission area, you will notice that you can click the link to **Preview the Grading** for each step of the assignment. This is the criteria that will be used for peer grading. Please familiarize yourself with the criteria before beginning the assignment.\n",
    "\n",
    "This assignment requires that you to find **at least** two datasets on the web which are related, and that you visualize these datasets to answer a question with the broad topic of **religious events or traditions** (see below) for the region of **Monterrey, Nuevo León, Mexico**, or **Mexico** more broadly.\n",
    "\n",
    "You can merge these datasets with data from different regions if you like! For instance, you might want to compare **Monterrey, Nuevo León, Mexico** to Ann Arbor, USA. In that case at least one source file must be about **Monterrey, Nuevo León, Mexico**.\n",
    "\n",
    "You are welcome to choose datasets at your discretion, but keep in mind **they will be shared with your peers**, so choose appropriate datasets. Sensitive, confidential, illicit, and proprietary materials are not good choices for datasets for this assignment. You are welcome to upload datasets of your own as well, and link to them using a third party repository such as github, bitbucket, pastebin, etc. Please be aware of the Coursera terms of service with respect to intellectual property.\n",
    "\n",
    "Also, you are welcome to preserve data in its original language, but for the purposes of grading you should provide english translations. You are welcome to provide multiple visuals in different languages if you would like!\n",
    "\n",
    "As this assignment is for the whole course, you must incorporate principles discussed in the first week, such as having as high data-ink ratio (Tufte) and aligning with Cairo’s principles of truth, beauty, function, and insight.\n",
    "\n",
    "Here are the assignment instructions:\n",
    "\n",
    " * State the region and the domain category that your data sets are about (e.g., **Monterrey, Nuevo León, Mexico** and **religious events or traditions**).\n",
    " * You must state a question about the domain category and region that you identified as being interesting.\n",
    " * You must provide at least two links to available datasets. These could be links to files such as CSV or Excel files, or links to websites which might have data in tabular form, such as Wikipedia pages.\n",
    " * You must upload an image which addresses the research question you stated. In addition to addressing the question, this visual should follow Cairo's principles of truthfulness, functionality, beauty, and insightfulness.\n",
    " * You must contribute a short (1-2 paragraph) written justification of how your visualization addresses your stated research question.\n",
    "\n",
    "What do we mean by **religious events or traditions**?  For this category you might consider calendar events, demographic data about religion in the region and neighboring regions, participation in religious events, or how religious events relate to political events, social movements, or historical events.\n",
    "\n",
    "## Tips\n",
    "* Wikipedia is an excellent source of data, and I strongly encourage you to explore it for new data sources.\n",
    "* Many governments run open data initiatives at the city, region, and country levels, and these are wonderful resources for localized data sources.\n",
    "* Several international agencies, such as the [United Nations](http://data.un.org/), the [World Bank](http://data.worldbank.org/), the [Global Open Data Index](http://index.okfn.org/place/) are other great places to look for data.\n",
    "* This assignment requires you to convert and clean datafiles. Check out the discussion forums for tips on how to do this from various sources, and share your successes with your fellow students!\n",
    "\n",
    "## Example\n",
    "Looking for an example? Here's what our course assistant put together for the **Ann Arbor, MI, USA** area using **sports and athletics** as the topic. [Example Solution File](./readonly/Assignment4_example.pdf)"
   ]
  },
  {
   "cell_type": "code",
   "execution_count": 1,
   "metadata": {
    "collapsed": false
   },
   "outputs": [],
   "source": [
    "#https://es.wikipedia.org/wiki/Religi%C3%B3n_en_M%C3%A9xico\n",
    "\n",
    "            \n",
    "dataMexico =[\n",
    "'State\tCatholic\tProtestant\tChristian\tJudaism\tOther Religion\tWithout religion\tUnknown',\n",
    "'Aguascalientes\t95,6%\t1,9%\t0,7%\t<0,1%\t0,1%\t0,8%\t0,7%',\n",
    "'Baja California\t81,4%\t7,9%\t2,7%\t<0,1%\t0,2%\t6,2%\t1,6%',\n",
    "'Baja California Sur\t70,0%\t24,0%\t1,9%\t<0,1%\t0,2%\t3,6%\t0,1%',\n",
    "'Campeche\t71,3%\t13,2%\t4,7%\t<0,1%\t1,7%\t9,9%\t4.1%',\n",
    "'Chiapas\t63,8%\t13,9%\t9,0%\t<0,1%\t<0,1%\t13,1%\t1,2%',\n",
    "'Chihuahua\t84,6%\t7,1%\t2,0%\t<0,1%\t0,1%\t5,1%\t1,1%',\n",
    "'Coahuila\t86,4%\t6,8%\t1,8%\t<0,1%\t0,1%\t3,8%\t1,1%',\n",
    "'Colima\t93,0%\t2,9%\t1,4%\t<0,1%\t0,1%\t1,8%\t0,8%',\n",
    "'Durango\t90,4%\t3,9%\t1,8%\t<0,1%\t<0,1%\t2,9%\t0,9%',\n",
    "'Distrito Federal\t90,5%\t3,6%\t1,3%\t0,2%\t0,8%\t2,9%\t0,7%',\n",
    "'Guanajuato\t96,4%\t1,3%\t0,7%\t<0,1%\t0,1%\t0,7%\t0,7%',\n",
    "'Guerrero\t89,2%\t4,4%\t2,0%\t<0,1%\t0,4%\t3,1%\t0,9%',\n",
    "'Hidalgo\t90,1%\t5,2%\t1,3%\t<0,1%\t0,4%\t1,6%\t0,7%',\n",
    "'Jalisco\t95,4%\t2,0%\t0,9%\t<0,1%\t<0,1%\t0,9%\t0,7%',\n",
    "'Mexico\t91,2%\t3,8%\t1,6%\t0,2%\t0,7%\t1,8%\t0,8%',\n",
    "'Michoacán\t94,8%\t1,9%\t1,1%\t<0,1%\t0,2%\t1,3%\t0,8%',\n",
    "'Morelos\t83,6%\t7,3%\t3,1%\t0,1%\t0,5%\t4,3%\t1,0%',\n",
    "'Nayarit\t91,8%\t3,0%\t1,3%\t<0,1%\t0,2%\t2,9%\t0,7%',\n",
    "'Nuevo León\t87,9%\t6,2%\t2,0%\t<0,1%\t0,1%\t2,8%\t0,9%',\n",
    "'Oaxaca\t84,8%\t7,8%\t2,3%\t<0,1%\t0,2%\t4,0%\t0,9%',\n",
    "'Puebla\t91,6%\t4,3%\t1,4%\t<0,1%\t0,4%\t1,4%\t0,8%',\n",
    "'Querétaro\t95,3%\t1,9%\t0,9%\t<0,1%\t0,2%\t0,9%\t0,8%',\n",
    "'Quintana Roo\t73,2%\t11,2%\t4,6%\t<0,1%\t0,2%\t9,6%\t1,1%',\n",
    "'San Luis Potosí\t92,0%\t4,6%\t1,0%\t<0,1%\t0,2%\t1,5%\t0,7%',\n",
    "'Sinaloa\t86,8%\t2,9%\t2,0%\t<0,1%\t<0,1%\t7,1%\t1,0%',\n",
    "'Sonora\t87,9%\t4,8%\t1,8%\t<0,1%\t<0,1%\t4,4%\t1,1%',\n",
    "'Tabasco\t70,4%\t13,6%\t5,0%\t<0,1%\t<0,1%\t10.0%\t0,8%',\n",
    "'Tamaulipas\t82,9%\t9,0%\t2,4%\t<0,1%\t0,2%\t4,9%\t1,0%',\n",
    "'Tlaxcala\t93,4%\t2,9%\t1,4%\t<0,1%\t0,4%\t1,0%\t0,9%',\n",
    "'Veracruz\t82,9%\t6,9%\t3,3%\t<0,1%\t0,2%\t5,9%\t0,8%',\n",
    "'Yucatán\t84,3%\t8,4%\t3,0%\t<0,1%\t0,1%\t3,5%\t0,8%',\n",
    "'Zacatecas\t95,1%\t1,9%\t1,0%\t<0,1%\t<0,1%\t1,1%\t0,8%',\n",
    "'Total(México)\t87,99%\t5,20%\t2,07%\t0,05%\t0,31%\t3,52%\t0,86%']\n",
    "\n"
   ]
  },
  {
   "cell_type": "code",
   "execution_count": 2,
   "metadata": {
    "collapsed": false
   },
   "outputs": [],
   "source": [
    "#cleaning data\n",
    "\n",
    "import pandas as pd\n",
    "\n",
    "clean_data=[]\n",
    "\n",
    "for state in dataMexico:\n",
    "    clean_data.append(state.split('\t'))\n",
    "\n",
    "dfDataMexico = pd.DataFrame(clean_data[1:],columns=clean_data[0])\n",
    "\n",
    "#print(dfDataMexico)"
   ]
  },
  {
   "cell_type": "code",
   "execution_count": 3,
   "metadata": {
    "collapsed": false
   },
   "outputs": [
    {
     "name": "stdout",
     "output_type": "stream",
     "text": [
      "                  State  Catholic  Protestant  Christian  Judaism  \\\n",
      "0        Aguascalientes     95.60         1.9       0.70     0.10   \n",
      "1       Baja California     81.40         7.9       2.70     0.10   \n",
      "2   Baja California Sur     70.00        24.0       1.90     0.10   \n",
      "3              Campeche     71.30        13.2       4.70     0.10   \n",
      "4               Chiapas     63.80        13.9       9.00     0.10   \n",
      "5             Chihuahua     84.60         7.1       2.00     0.10   \n",
      "6              Coahuila     86.40         6.8       1.80     0.10   \n",
      "7                Colima     93.00         2.9       1.40     0.10   \n",
      "8               Durango     90.40         3.9       1.80     0.10   \n",
      "9      Distrito Federal     90.50         3.6       1.30     0.20   \n",
      "10           Guanajuato     96.40         1.3       0.70     0.10   \n",
      "11             Guerrero     89.20         4.4       2.00     0.10   \n",
      "12              Hidalgo     90.10         5.2       1.30     0.10   \n",
      "13              Jalisco     95.40         2.0       0.90     0.10   \n",
      "14               Mexico     91.20         3.8       1.60     0.20   \n",
      "15            Michoacan     94.80         1.9       1.10     0.10   \n",
      "16              Morelos     83.60         7.3       3.10     0.10   \n",
      "17              Nayarit     91.80         3.0       1.30     0.10   \n",
      "18           Nuevo Leon     87.90         6.2       2.00     0.10   \n",
      "19               Oaxaca     84.80         7.8       2.30     0.10   \n",
      "20               Puebla     91.60         4.3       1.40     0.10   \n",
      "21            Queretaro     95.30         1.9       0.90     0.10   \n",
      "22         Quintana Roo     73.20        11.2       4.60     0.10   \n",
      "23      San Luis Potosi     92.00         4.6       1.00     0.10   \n",
      "24              Sinaloa     86.80         2.9       2.00     0.10   \n",
      "25               Sonora     87.90         4.8       1.80     0.10   \n",
      "26              Tabasco     70.40        13.6       5.00     0.10   \n",
      "27           Tamaulipas     82.90         9.0       2.40     0.10   \n",
      "28             Tlaxcala     93.40         2.9       1.40     0.10   \n",
      "29             Veracruz     82.90         6.9       3.30     0.10   \n",
      "30              Yucatan     84.30         8.4       3.00     0.10   \n",
      "31            Zacatecas     95.10         1.9       1.00     0.10   \n",
      "32        Total(Mexico)     87.99         5.2       2.07     0.05   \n",
      "\n",
      "    Other Religion  Without religion  Unknown  \n",
      "0             0.10              0.80     0.70  \n",
      "1             0.20              6.20     1.60  \n",
      "2             0.20              3.60     0.10  \n",
      "3             1.70              9.90     4.10  \n",
      "4             0.10             13.10     1.20  \n",
      "5             0.10              5.10     1.10  \n",
      "6             0.10              3.80     1.10  \n",
      "7             0.10              1.80     0.80  \n",
      "8             0.10              2.90     0.90  \n",
      "9             0.80              2.90     0.70  \n",
      "10            0.10              0.70     0.70  \n",
      "11            0.40              3.10     0.90  \n",
      "12            0.40              1.60     0.70  \n",
      "13            0.10              0.90     0.70  \n",
      "14            0.70              1.80     0.80  \n",
      "15            0.20              1.30     0.80  \n",
      "16            0.50              4.30     1.00  \n",
      "17            0.20              2.90     0.70  \n",
      "18            0.10              2.80     0.90  \n",
      "19            0.20              4.00     0.90  \n",
      "20            0.40              1.40     0.80  \n",
      "21            0.20              0.90     0.80  \n",
      "22            0.20              9.60     1.10  \n",
      "23            0.20              1.50     0.70  \n",
      "24            0.10              7.10     1.00  \n",
      "25            0.10              4.40     1.10  \n",
      "26            0.10             10.00     0.80  \n",
      "27            0.20              4.90     1.00  \n",
      "28            0.40              1.00     0.90  \n",
      "29            0.20              5.90     0.80  \n",
      "30            0.10              3.50     0.80  \n",
      "31            0.10              1.10     0.80  \n",
      "32            0.31              3.52     0.86  \n"
     ]
    }
   ],
   "source": [
    "dfDataMexico = dfDataMexico.replace('México', 'Mexico',regex=False)\n",
    "dfDataMexico = dfDataMexico.replace('Querétaro','Queretaro',regex=False)\n",
    "dfDataMexico = dfDataMexico.replace('Michoacán','Michoacan',regex=False)\n",
    "dfDataMexico = dfDataMexico.replace('Nuevo León','Nuevo Leon',regex=False)\n",
    "dfDataMexico = dfDataMexico.replace('San Luis Potosí','San Luis Potosi',regex=False)\n",
    "dfDataMexico = dfDataMexico.replace('Yucatán','Yucatan',regex=False)\n",
    "dfDataMexico = dfDataMexico.replace('Total(México)','Total(Mexico)',regex=False)\n",
    "\n",
    "for col in dfDataMexico.columns[1:]:\n",
    "    dfDataMexico[col] = dfDataMexico[col].str.replace('%', ' ')\n",
    "    dfDataMexico[col] = dfDataMexico[col].str.replace(',', '.')\n",
    "    dfDataMexico[col] = dfDataMexico[col].str.replace('<', ' ')\n",
    "    \n",
    "for col in dfDataMexico.columns[1:]:\n",
    "    dfDataMexico[col] = dfDataMexico[col].astype(float)\n",
    "\n",
    "print(dfDataMexico)"
   ]
  },
  {
   "cell_type": "code",
   "execution_count": 4,
   "metadata": {
    "collapsed": false
   },
   "outputs": [],
   "source": [
    "#https://www.bestplaces.net/religion/city/michigan/ann_arbor\n",
    "dataAnnArborMichigan=[[2.0, 'Baptist'],[0.7, 'Episcopalian'],[12.7, 'Catholic'],[2.9, 'Lutheran'],\n",
    "                      [3.1, 'Methodist'],[1.9, 'Pentecostal'],[3.0, 'Presbyterian'],[0.9,'Church of Jesus Christ'],\n",
    "                      [3.0, 'Another Christian faith'],[0.9,'Judaism'],[0.3,'Eastern faith'],[1.3, 'Islam'],\n",
    "                      [67.1, 'Without religion']]\n",
    "\n"
   ]
  },
  {
   "cell_type": "code",
   "execution_count": 5,
   "metadata": {
    "collapsed": false
   },
   "outputs": [
    {
     "data": {
      "text/html": [
       "<div>\n",
       "<table border=\"1\" class=\"dataframe\">\n",
       "  <thead>\n",
       "    <tr style=\"text-align: right;\">\n",
       "      <th></th>\n",
       "      <th>State</th>\n",
       "      <th>Christian</th>\n",
       "      <th>Judaism</th>\n",
       "      <th>Eastern faith</th>\n",
       "      <th>Without religion</th>\n",
       "      <th>Catholic</th>\n",
       "      <th>Islam</th>\n",
       "    </tr>\n",
       "  </thead>\n",
       "  <tbody>\n",
       "    <tr>\n",
       "      <th>0</th>\n",
       "      <td>Ann Arbor Michigan</td>\n",
       "      <td>17.5</td>\n",
       "      <td>0.9</td>\n",
       "      <td>0.3</td>\n",
       "      <td>67.1</td>\n",
       "      <td>12.7</td>\n",
       "      <td>1.3</td>\n",
       "    </tr>\n",
       "  </tbody>\n",
       "</table>\n",
       "</div>"
      ],
      "text/plain": [
       "                State Christian Judaism Eastern faith Without religion  \\\n",
       "0  Ann Arbor Michigan      17.5     0.9           0.3             67.1   \n",
       "\n",
       "  Catholic Islam  \n",
       "0     12.7   1.3  "
      ]
     },
     "execution_count": 5,
     "metadata": {},
     "output_type": "execute_result"
    }
   ],
   "source": [
    "col = ['State']\n",
    "per = ['Ann Arbor Michigan']\n",
    "for p,r in dataAnnArborMichigan:\n",
    "    col.append(r)\n",
    "    per.append(p)\n",
    "dfAnn= pd.DataFrame(per)\n",
    "dfAnn = dfAnn.T\n",
    "dfAnn.columns = col\n",
    "dfAnn['Christian']= dfAnn['Baptist']+ dfAnn['Episcopalian'] + dfAnn['Lutheran'] + dfAnn['Methodist'] + dfAnn['Pentecostal'] + dfAnn['Presbyterian'] + dfAnn['Church of Jesus Christ'] + dfAnn['Another Christian faith']\n",
    "dfAnn = dfAnn[['State','Christian','Judaism','Eastern faith','Without religion','Catholic','Islam']]\n",
    "dfAnn"
   ]
  },
  {
   "cell_type": "code",
   "execution_count": 6,
   "metadata": {
    "collapsed": false
   },
   "outputs": [
    {
     "name": "stdout",
     "output_type": "stream",
     "text": [
      "                  State  Catholic  Protestant  Christian  Judaism  \\\n",
      "0        Aguascalientes     95.60         1.9       0.70     0.10   \n",
      "1       Baja California     81.40         7.9       2.70     0.10   \n",
      "2   Baja California Sur     70.00        24.0       1.90     0.10   \n",
      "3              Campeche     71.30        13.2       4.70     0.10   \n",
      "4               Chiapas     63.80        13.9       9.00     0.10   \n",
      "5             Chihuahua     84.60         7.1       2.00     0.10   \n",
      "6              Coahuila     86.40         6.8       1.80     0.10   \n",
      "7                Colima     93.00         2.9       1.40     0.10   \n",
      "8               Durango     90.40         3.9       1.80     0.10   \n",
      "9      Distrito Federal     90.50         3.6       1.30     0.20   \n",
      "10           Guanajuato     96.40         1.3       0.70     0.10   \n",
      "11             Guerrero     89.20         4.4       2.00     0.10   \n",
      "12              Hidalgo     90.10         5.2       1.30     0.10   \n",
      "13              Jalisco     95.40         2.0       0.90     0.10   \n",
      "14               Mexico     91.20         3.8       1.60     0.20   \n",
      "15            Michoacan     94.80         1.9       1.10     0.10   \n",
      "16              Morelos     83.60         7.3       3.10     0.10   \n",
      "17              Nayarit     91.80         3.0       1.30     0.10   \n",
      "18           Nuevo Leon     87.90         6.2       2.00     0.10   \n",
      "19               Oaxaca     84.80         7.8       2.30     0.10   \n",
      "20               Puebla     91.60         4.3       1.40     0.10   \n",
      "21            Queretaro     95.30         1.9       0.90     0.10   \n",
      "22         Quintana Roo     73.20        11.2       4.60     0.10   \n",
      "23      San Luis Potosi     92.00         4.6       1.00     0.10   \n",
      "24              Sinaloa     86.80         2.9       2.00     0.10   \n",
      "25               Sonora     87.90         4.8       1.80     0.10   \n",
      "26              Tabasco     70.40        13.6       5.00     0.10   \n",
      "27           Tamaulipas     82.90         9.0       2.40     0.10   \n",
      "28             Tlaxcala     93.40         2.9       1.40     0.10   \n",
      "29             Veracruz     82.90         6.9       3.30     0.10   \n",
      "30              Yucatan     84.30         8.4       3.00     0.10   \n",
      "31            Zacatecas     95.10         1.9       1.00     0.10   \n",
      "32        Total(Mexico)     87.99         5.2       2.07     0.05   \n",
      "33   Ann Arbor Michigan     12.70         NaN      17.50     0.90   \n",
      "\n",
      "    Other Religion  Without religion  Unknown Eastern faith Islam  \n",
      "0             0.10              0.80     0.70           NaN   NaN  \n",
      "1             0.20              6.20     1.60           NaN   NaN  \n",
      "2             0.20              3.60     0.10           NaN   NaN  \n",
      "3             1.70              9.90     4.10           NaN   NaN  \n",
      "4             0.10             13.10     1.20           NaN   NaN  \n",
      "5             0.10              5.10     1.10           NaN   NaN  \n",
      "6             0.10              3.80     1.10           NaN   NaN  \n",
      "7             0.10              1.80     0.80           NaN   NaN  \n",
      "8             0.10              2.90     0.90           NaN   NaN  \n",
      "9             0.80              2.90     0.70           NaN   NaN  \n",
      "10            0.10              0.70     0.70           NaN   NaN  \n",
      "11            0.40              3.10     0.90           NaN   NaN  \n",
      "12            0.40              1.60     0.70           NaN   NaN  \n",
      "13            0.10              0.90     0.70           NaN   NaN  \n",
      "14            0.70              1.80     0.80           NaN   NaN  \n",
      "15            0.20              1.30     0.80           NaN   NaN  \n",
      "16            0.50              4.30     1.00           NaN   NaN  \n",
      "17            0.20              2.90     0.70           NaN   NaN  \n",
      "18            0.10              2.80     0.90           NaN   NaN  \n",
      "19            0.20              4.00     0.90           NaN   NaN  \n",
      "20            0.40              1.40     0.80           NaN   NaN  \n",
      "21            0.20              0.90     0.80           NaN   NaN  \n",
      "22            0.20              9.60     1.10           NaN   NaN  \n",
      "23            0.20              1.50     0.70           NaN   NaN  \n",
      "24            0.10              7.10     1.00           NaN   NaN  \n",
      "25            0.10              4.40     1.10           NaN   NaN  \n",
      "26            0.10             10.00     0.80           NaN   NaN  \n",
      "27            0.20              4.90     1.00           NaN   NaN  \n",
      "28            0.40              1.00     0.90           NaN   NaN  \n",
      "29            0.20              5.90     0.80           NaN   NaN  \n",
      "30            0.10              3.50     0.80           NaN   NaN  \n",
      "31            0.10              1.10     0.80           NaN   NaN  \n",
      "32            0.31              3.52     0.86           NaN   NaN  \n",
      "33             NaN             67.10      NaN           0.3   1.3  \n"
     ]
    }
   ],
   "source": [
    "dfData =pd.merge(dfDataMexico, dfAnn, how='outer')\n",
    "print(dfData)"
   ]
  },
  {
   "cell_type": "code",
   "execution_count": 7,
   "metadata": {
    "collapsed": false
   },
   "outputs": [],
   "source": [
    "#for col in dfData.columns:\n",
    " #   dfData[col] = dfData[col].fillna(0, inplace=True)\n",
    "import numpy as np\n",
    "dfData = dfData.replace(np.nan, 0)\n",
    "\n",
    "dfData['Protestant and Christian']= dfData['Protestant']+ dfData['Christian']\n",
    "dfData['Other Religions'] = dfData['Islam']+dfData['Eastern faith'] + dfData['Other Religion']"
   ]
  },
  {
   "cell_type": "code",
   "execution_count": 8,
   "metadata": {
    "collapsed": false
   },
   "outputs": [],
   "source": [
    "dfData = dfData[['State','Catholic','Protestant and Christian','Judaism','Other Religions','Without religion','Unknown']]"
   ]
  },
  {
   "cell_type": "code",
   "execution_count": 9,
   "metadata": {
    "collapsed": false
   },
   "outputs": [],
   "source": [
    "#dfData['Total']=dfData[['Catholic','Protestant and Christian','Judaism','Other Religion: Islam, Eastern Faith, etc.','Without religion','Unknown']].sum(axis=1)"
   ]
  },
  {
   "cell_type": "code",
   "execution_count": 10,
   "metadata": {
    "collapsed": false
   },
   "outputs": [
    {
     "data": {
      "image/png": "[encoded data removed]",
      "text/plain": [
       "<matplotlib.figure.Figure at 0x7f17009bc940>"
      ]
     },
     "metadata": {},
     "output_type": "display_data"
    }
   ],
   "source": [
    "import matplotlib.pyplot as plt\n",
    "import numpy as np\n",
    "from matplotlib import colors\n",
    "\n",
    "#print(dfData.index)\n",
    "# create 2x2 grid of axis subplots\n",
    "\n",
    "fig, ((ax1, ax2, ax3), (ax4,ax5, ax6)) = plt.subplots(2, 3, sharex=True)\n",
    "#fig, ((ax1, ax2), (ax3, ax4),(ax5, ax6)) = plt.subplots(3, 2, sharex=True)\n",
    "#fig, ((ax1), (ax2), (ax3), (ax4),(ax5), (ax6)) = plt.subplots(6, 1, sharex=True)\n",
    "axs = [ax1,ax2,ax3,ax4,ax5,ax6]\n",
    "\n",
    "#axs[0].hist(dfData['Catholic'])\n",
    "#plt.show()\n",
    "col = dfData.columns[1:]\n",
    "\n",
    "#draw n = 10, 100, 1000, and 10000 samples from the normal distribution and plot corresponding histograms\n",
    "for n in range(0,len(axs)):\n",
    "        axs[n].bar([0,1],dfData[col[n]].iloc[[18,33]],color =['orange','red'],linewidth=0,\n",
    "                  tick_label=['Monterrey, Nuevo Leon,\\nMexico','Ann Arbor,\\nUSA'])#iloc[[18,33]]\n",
    "        axs[n].set_title('{}'.format(col[n]))\n",
    "        axs[n].spines['right'].set_visible(False)\n",
    "        axs[n].spines['top'].set_visible(False)\n",
    "        \n",
    "        #axs[n].set_yticks(range(0,110,20))\n",
    "\n",
    "plt.xlabel('City',color='grey' , x =-0.8)\n",
    "plt.ylabel('% Population of each country \\n(Mexico and USA)',labelpad=250,color='grey' , y =1)\n",
    "\n",
    "plt.subplots_adjust(hspace=1)\n",
    "\n",
    "for label in axs[0].get_xmajorticklabels() + axs[1].get_xmajorticklabels() + axs[2].get_xmajorticklabels() + axs[3].get_xmajorticklabels() + axs[4].get_xmajorticklabels() + axs[5].get_xmajorticklabels() :\n",
    "    label.set_rotation(30)\n",
    "    label.set_horizontalalignment(\"right\")\n",
    "\n",
    "plt.show()"
   ]
  },
  {
   "cell_type": "code",
   "execution_count": null,
   "metadata": {
    "collapsed": true
   },
   "outputs": [],
   "source": []
  },
  {
   "cell_type": "code",
   "execution_count": null,
   "metadata": {
    "collapsed": true
   },
   "outputs": [],
   "source": []
  },
  {
   "cell_type": "code",
   "execution_count": null,
   "metadata": {
    "collapsed": true
   },
   "outputs": [],
   "source": []
  },
  {
   "cell_type": "code",
   "execution_count": null,
   "metadata": {
    "collapsed": true
   },
   "outputs": [],
   "source": []
  },
  {
   "cell_type": "code",
   "execution_count": null,
   "metadata": {
    "collapsed": true
   },
   "outputs": [],
   "source": []
  },
  {
   "cell_type": "code",
   "execution_count": null,
   "metadata": {
    "collapsed": true
   },
   "outputs": [],
   "source": []
  },
  {
   "cell_type": "code",
   "execution_count": null,
   "metadata": {
    "collapsed": true
   },
   "outputs": [],
   "source": []
  },
  {
   "cell_type": "code",
   "execution_count": null,
   "metadata": {
    "collapsed": true
   },
   "outputs": [],
   "source": []
  }
 ],
 "metadata": {
  "kernelspec": {
   "display_name": "Python 3",
   "language": "python",
   "name": "python3"
  },
  "language_info": {
   "codemirror_mode": {
    "name": "ipython",
    "version": 3
   },
   "file_extension": ".py",
   "mimetype": "text/x-python",
   "name": "python",
   "nbconvert_exporter": "python",
   "pygments_lexer": "ipython3",
   "version": "3.6.2"
  }
 },
 "nbformat": 4,
 "nbformat_minor": 1
}
